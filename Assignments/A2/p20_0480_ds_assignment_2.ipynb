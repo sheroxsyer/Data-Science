{
  "cells": [
    {
      "cell_type": "code",
      "execution_count": 10,
      "metadata": {
        "id": "ER5Xi7O11OWc"
      },
      "outputs": [],
      "source": [
        "import requests\n",
        "import pandas as pd\n",
        "import time"
      ]
    },
    {
      "cell_type": "code",
      "source": [
        "# Overpass API URL\n",
        "OVERPASS_URL = \"http://overpass-api.de/api/interpreter\""
      ],
      "metadata": {
        "id": "e2VwxGeh9FJn"
      },
      "execution_count": 11,
      "outputs": []
    },
    {
      "cell_type": "code",
      "source": [
        "# Define the Overpass query to find PC repair/IT support in London\n",
        "overpass_query = \"\"\"\n",
        "[out:json][timeout:25];\n",
        "area[name=\"London\"]->.searchArea;\n",
        "(\n",
        "  node[\"shop\"=\"computer\"](area.searchArea);\n",
        "  way[\"shop\"=\"computer\"](area.searchArea);\n",
        "  relation[\"shop\"=\"computer\"](area.searchArea);\n",
        ");\n",
        "out body;\n",
        ">;\n",
        "out skel qt;\n",
        "\"\"\""
      ],
      "metadata": {
        "id": "haFolo1-9LED"
      },
      "execution_count": 12,
      "outputs": []
    },
    {
      "cell_type": "code",
      "source": [
        "# code to- Send request to Overpass API using the requests library\n",
        "response = requests.get(OVERPASS_URL, params={'data': overpass_query})\n"
      ],
      "metadata": {
        "id": "nUQ_mbgI9QY6"
      },
      "execution_count": 13,
      "outputs": []
    },
    {
      "cell_type": "code",
      "source": [
        " # code to- Check if the request was successful ( hint : status code )\n",
        "\n",
        "if response.status_code == 200:\n",
        "    print(\"Request successful!\")\n",
        "    data = response.json()  # Extract the data as JSON\n",
        "else:\n",
        "    print(\"Error! Request failed.\")\n",
        "    exit()  # Stop the program if the request fails\n"
      ],
      "metadata": {
        "colab": {
          "base_uri": "https://localhost:8080/"
        },
        "id": "sIw8Q68e9SHS",
        "outputId": "0e4da3b3-3930-42a6-e2d1-a6f7d6a8127b"
      },
      "execution_count": 14,
      "outputs": [
        {
          "output_type": "stream",
          "name": "stdout",
          "text": [
            "Request successful!\n"
          ]
        }
      ]
    },
    {
      "cell_type": "code",
      "source": [
        "#code to- Extract relevant information from the response\n",
        "\n",
        "companies = []\n"
      ],
      "metadata": {
        "id": "A1jCOkJP9cS0"
      },
      "execution_count": 15,
      "outputs": []
    },
    {
      "cell_type": "code",
      "source": [
        "# Loop through each element in the response to extract the relevant information\n",
        "for element in data['elements']:\n",
        "    if 'tags' in element:\n",
        "        name = element['tags'].get('name', 'null')  # Get company name or 'null'\n",
        "        website = element['tags'].get('website', 'null')  # Get website or 'null'\n",
        "        email = element['tags'].get('contact:email', 'null')  # Get email or 'null'\n",
        "        companies.append([name, website, email])  # Add extracted info to the list\n"
      ],
      "metadata": {
        "id": "epK6WNLd9fO-"
      },
      "execution_count": 16,
      "outputs": []
    },
    {
      "cell_type": "code",
      "source": [
        "# Convert the list to a Pandas DataFrame for easier handling\n",
        "df = pd.DataFrame(companies, columns=['Name', 'Website', 'Email'])"
      ],
      "metadata": {
        "id": "Yqy7ZvA79i_Y"
      },
      "execution_count": 17,
      "outputs": []
    },
    {
      "cell_type": "code",
      "source": [
        "# code to- Save the data to a DataFrame\n",
        "\n",
        "df.to_csv('results_p20-0480.csv', index=False)\n"
      ],
      "metadata": {
        "id": "o2JwR6DL9uW4"
      },
      "execution_count": 18,
      "outputs": []
    },
    {
      "cell_type": "code",
      "source": [
        "# Print a confirmation message\n",
        "print(f\"Data has been saved to 'results_p20-0480.csv'. {len(companies)} records stored.\")\n"
      ],
      "metadata": {
        "colab": {
          "base_uri": "https://localhost:8080/"
        },
        "id": "u31piO-o9v1-",
        "outputId": "8075c0d3-aea8-46ad-955e-4bb0e3eef19b"
      },
      "execution_count": 19,
      "outputs": [
        {
          "output_type": "stream",
          "name": "stdout",
          "text": [
            "Data has been saved to 'results_p20-0480.csv'. 189 records stored.\n"
          ]
        }
      ]
    }
  ],
  "metadata": {
    "language_info": {
      "name": "python"
    },
    "colab": {
      "provenance": []
    },
    "kernelspec": {
      "name": "python3",
      "display_name": "Python 3"
    }
  },
  "nbformat": 4,
  "nbformat_minor": 0
}