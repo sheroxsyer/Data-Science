{
 "cells": [
  {
   "cell_type": "code",
   "execution_count": null,
   "metadata": {},
   "outputs": [],
   "source": [
    "import requests\n",
    "import pandas as pd\n",
    "import time"
   ]
  },
  {
   "cell_type": "code",
   "execution_count": null,
   "metadata": {},
   "outputs": [],
   "source": [
    "# Overpass API URL\n",
    "OVERPASS_URL = \"<http://overpass-api.de/api/interpreter>\"\n",
    "\n",
    "# Overpass query to find PC repair/IT support in London\n",
    "overpass_query = \"\"\"\n",
    "[out:json][timeout:25];\n",
    "area[name=\"London\"]->.searchArea;\n",
    "(\n",
    "  node[\"shop\"=\"write key wwordss here \"](area.searchArea);\n",
    "  way[\"shop\"=\"write key wwordss here\"](area.searchArea);\n",
    "  relation[\"shop\"=\"write key wwordss here\"](area.searchArea);\n",
    ");\n",
    "out body;\n",
    ">;\n",
    "out skel qt;\n",
    "\"\"\""
   ]
  },
  {
   "cell_type": "code",
   "execution_count": null,
   "metadata": {},
   "outputs": [],
   "source": [
    "# code to- Send request to Overpass API using the requests library\n",
    "response = requests.get(OVERPASS_URL, params={'data': overpass_query})"
   ]
  },
  {
   "cell_type": "code",
   "execution_count": null,
   "metadata": {},
   "outputs": [],
   "source": [
    "# code to- Check if the request was successful ( hint : status code )\n",
    "\n",
    "if #condition to check if respose is successfull :\n",
    "    data = response.json()\n",
    "else:\n",
    "    print(\"Error ! \")\n",
    "    exit()"
   ]
  },
  {
   "cell_type": "code",
   "execution_count": null,
   "metadata": {},
   "outputs": [],
   "source": [
    "#code to- Extract relevant information from the response\n",
    "companies = []\n",
    "\n",
    "\n",
    "\n",
    "\n",
    "\n",
    "\n",
    "\n"
   ]
  },
  {
   "cell_type": "code",
   "execution_count": null,
   "metadata": {},
   "outputs": [],
   "source": [
    "# code to- Save the data to a DataFrame"
   ]
  },
  {
   "cell_type": "code",
   "execution_count": null,
   "metadata": {},
   "outputs": [],
   "source": [
    "# Save the data to CSV"
   ]
  },
  {
   "cell_type": "code",
   "execution_count": null,
   "metadata": {},
   "outputs": [],
   "source": [
    "# print a confirmation message and the number of records stored"
   ]
  }
 ],
 "metadata": {
  "language_info": {
   "name": "python"
  }
 },
 "nbformat": 4,
 "nbformat_minor": 2
}
